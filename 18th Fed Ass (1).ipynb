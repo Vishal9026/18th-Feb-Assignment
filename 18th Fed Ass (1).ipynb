{
 "cells": [
  {
   "cell_type": "code",
   "execution_count": 1,
   "id": "5ee652d6-ce3e-4776-b81e-9a1d638b59f1",
   "metadata": {},
   "outputs": [],
   "source": [
    "# ANSWER-1)\n",
    "# API stands for Application Programming Interface. Its a software interface that allows two applications to interact with each other without any user intervention.\n",
    "\n",
    "# Popular API Examples:\n",
    "# Google Maps API’s: Google Maps APIs allows developers to use Google Maps on Webpages.\n",
    "# YouTube API’s: Google’s API lets developers integrate YouTube and functionality into websites or applications.\n",
    "# Usage\n",
    "\n",
    "# API helps two different software’s to communicate and exchange data with each other.\n",
    "# Simple, flexible, quickly adopted.\n"
   ]
  },
  {
   "cell_type": "code",
   "execution_count": 2,
   "id": "7faa6ffc-e2fe-4ec1-96f1-4e0939936d3d",
   "metadata": {},
   "outputs": [],
   "source": [
    "# ANSWER-2)\n",
    "#-Advantages\n",
    "# Increased Visibility and Traffic\n",
    "# Seamless Integration\n",
    "# Increased Efficiency\n",
    "# Easier Maintenance\n",
    "#-Disadvantages\n",
    "# Increased Complexity\n",
    "# Limited Functionality\n",
    "# Dependency on Third Party Services\n",
    "# Security and Privacy Risks"
   ]
  },
  {
   "cell_type": "code",
   "execution_count": 3,
   "id": "5e571ecc-b33b-4bd0-bd2a-2d2d289b4a35",
   "metadata": {},
   "outputs": [],
   "source": [
    "# ANSWER-3)\n",
    "# Web API is an API as the name suggests, it can be accessed over the web using the HTTP protocol. It a subset of API.\n",
    "\n",
    "# A Web API or Web Service API is an application processing interface between a web server and web browser. All web services are APIs but not all APIs are web services. REST API is a special type of Web API that uses the standard architectural style.\n",
    "\n",
    "# TCP, SMTP, HTTP protocals are use in API but in Web API only HTTP protol is used."
   ]
  },
  {
   "cell_type": "code",
   "execution_count": 4,
   "id": "2a640ded-f648-4cc9-b17f-ef7abd12545e",
   "metadata": {},
   "outputs": [],
   "source": [
    "# ANSWER-4)\n",
    "#-SOAP APIs\n",
    "# These APIs use Simple Object Access Protocol. Client and server exchange messages using XML.\n",
    "# This is a less flexible API that was more popular in the past.\n",
    "#-REST APIs\n",
    "# These are the most popular and flexible APIs found on the web today.\n",
    "# The client sends requests to the server as data.\n",
    "# The server uses this client input to start internal functions and returns output data back to the client.\n",
    "#-Mention shortcomings of SOAP\n",
    "# Poorer performance, more complexity, less flexibility.\n",
    "# API calls cannot be cached.\n",
    "# Message format - Only XML."
   ]
  },
  {
   "cell_type": "code",
   "execution_count": 5,
   "id": "55582126-90bf-4529-aa31-e6b03a28ebac",
   "metadata": {},
   "outputs": [],
   "source": [
    "# ANSWER-5)\n",
    "#-SOAP API\n",
    "# Simple Object Access Protocol\n",
    "# Protocol Used: TCP or SMTP\n",
    "# Data Transfer: XML (WSDL)\n",
    "# More secure than REST API\n",
    "# Preffered Choise: Offline application\n",
    "#-REST API\n",
    "# Representational State Transfer\n",
    "# Protocol Used: HTTP\n",
    "# Data Transfer: JSON\n",
    "# Less secure than SOAP API\n",
    "# Preffered Choise: Web based application\n",
    "# Fxn: PUT, GET\n",
    "# Simple, Scalable and flexible"
   ]
  },
  {
   "cell_type": "code",
   "execution_count": null,
   "id": "4866df33-3e6f-4faf-a25c-9288eeab7481",
   "metadata": {},
   "outputs": [],
   "source": []
  }
 ],
 "metadata": {
  "kernelspec": {
   "display_name": "Python 3 (ipykernel)",
   "language": "python",
   "name": "python3"
  },
  "language_info": {
   "codemirror_mode": {
    "name": "ipython",
    "version": 3
   },
   "file_extension": ".py",
   "mimetype": "text/x-python",
   "name": "python",
   "nbconvert_exporter": "python",
   "pygments_lexer": "ipython3",
   "version": "3.10.8"
  }
 },
 "nbformat": 4,
 "nbformat_minor": 5
}
